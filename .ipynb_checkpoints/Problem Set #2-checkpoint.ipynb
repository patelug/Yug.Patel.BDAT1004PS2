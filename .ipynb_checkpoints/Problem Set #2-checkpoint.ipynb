{
 "cells": [
  {
   "cell_type": "code",
   "execution_count": 2,
   "id": "9fbcae20",
   "metadata": {},
   "outputs": [
    {
     "name": "stdout",
     "output_type": "stream",
     "text": [
      "6\n"
     ]
    }
   ],
   "source": [
    "#Question 1\n",
    "\n",
    "a = 0  #Declares a global variable 'a' and initializes it to 0\n",
    "def b(): #Defines a funcation 'b()' which will update the global variable a by calling the funcation c(a)\n",
    "    global a\n",
    "    a = c(a)\n",
    "    \n",
    "def c(a): #Defines a funcation 'c(a)' which adds 2 to the input parameter.\n",
    "    return a+2\n",
    "\n",
    "b() #when call the funcation first time it will update the global variable a to 2\n",
    "b() #when call the funcation second time it will update the global variable a to 4\n",
    "b() #when call the funcation third time it will update the global variable a to 6\n",
    "print(a)\n",
    "\n",
    "#when we evalute 'a' after calling 'b()' three times, the value displayed will be 6."
   ]
  },
  {
   "cell_type": "code",
   "execution_count": 2,
   "id": "6d349cae",
   "metadata": {},
   "outputs": [],
   "source": [
    "#Question 2\n",
    "\n",
    "def fileLength(filename):\n",
    "    try:\n",
    "        infile = open(filename)\n",
    "        contents = infile.read()\n",
    "        infile.close()\n",
    "        return len(contents)\n",
    "    except FileNotFoundError:\n",
    "        print(f\"File {filename} not found.\")"
   ]
  },
  {
   "cell_type": "code",
   "execution_count": 3,
   "id": "70fc7f1b",
   "metadata": {},
   "outputs": [
    {
     "data": {
      "text/plain": [
       "123"
      ]
     },
     "execution_count": 3,
     "metadata": {},
     "output_type": "execute_result"
    }
   ],
   "source": [
    "fileLength('Filelength.txt')"
   ]
  },
  {
   "cell_type": "code",
   "execution_count": 5,
   "id": "5a82f810",
   "metadata": {},
   "outputs": [
    {
     "name": "stdout",
     "output_type": "stream",
     "text": [
      "File midterm.py not found.\n"
     ]
    }
   ],
   "source": [
    "fileLength('midterm.py')"
   ]
  },
  {
   "cell_type": "code",
   "execution_count": 6,
   "id": "7af94f34",
   "metadata": {},
   "outputs": [
    {
     "name": "stdout",
     "output_type": "stream",
     "text": [
      "File idterm.py not found.\n"
     ]
    }
   ],
   "source": [
    "fileLength('idterm.py')"
   ]
  },
  {
   "cell_type": "code",
   "execution_count": 26,
   "id": "92e1e2e8",
   "metadata": {},
   "outputs": [],
   "source": [
    "#Question 3\n",
    "\n",
    "class Marsupial:\n",
    "    def __init__(self):\n",
    "        self.pouch =[]\n",
    "        \n",
    "    def put_in_pouch(self,item):\n",
    "        self.pouch.append(item)\n",
    "        \n",
    "    def pouch_contents(self):\n",
    "        return self.pouch\n",
    "    \n",
    "class Kangaroo(Marsupial):\n",
    "    def __init__(self,x,y):\n",
    "        super().__init__()\n",
    "        self.x = x\n",
    "        self.y = y\n",
    "        \n",
    "    def jump(self, dx,dy):\n",
    "        self.x += dx\n",
    "        self.y += dy\n",
    "        \n",
    "    def __str__(self):\n",
    "        return f\"I am a Kangaroo located at coordinates ({self.x},{self.y})\""
   ]
  },
  {
   "cell_type": "code",
   "execution_count": 27,
   "id": "be9e480d",
   "metadata": {},
   "outputs": [
    {
     "name": "stdout",
     "output_type": "stream",
     "text": [
      "['doll', 'firetruck', 'kitten']\n",
      "I am a Kangaroo located at coordinates (0,0)\n",
      "['doll', 'firetruck', 'kitten']\n",
      "I am a Kangaroo located at coordinates (3,0)\n"
     ]
    }
   ],
   "source": [
    "m = Marsupial()\n",
    "m.put_in_pouch('doll')\n",
    "m.put_in_pouch('firetruck')\n",
    "m.put_in_pouch('kitten')\n",
    "\n",
    "print(m.pouch_contents())\n",
    "\n",
    "k = Kangaroo(0,0)\n",
    "print(k)\n",
    "k.put_in_pouch('doll')\n",
    "k.put_in_pouch('firetruck')\n",
    "k.put_in_pouch('kitten')\n",
    "print(k.pouch_contents())\n",
    "k.jump(1,0)\n",
    "k.jump(1,0)\n",
    "k.jump(1,0)\n",
    "print(k)"
   ]
  },
  {
   "cell_type": "code",
   "execution_count": 29,
   "id": "8391e0e6",
   "metadata": {},
   "outputs": [],
   "source": [
    "#Question 4\n",
    "\n",
    "def collatz(x):\n",
    "    print(x)\n",
    "    if x == 1:\n",
    "        return\n",
    "    elif x % 2 == 0:\n",
    "        collatz(x//2)\n",
    "    else:\n",
    "        collatz(3*x + 1)"
   ]
  },
  {
   "cell_type": "code",
   "execution_count": 30,
   "id": "5c1c7f64",
   "metadata": {},
   "outputs": [
    {
     "name": "stdout",
     "output_type": "stream",
     "text": [
      "1\n"
     ]
    }
   ],
   "source": [
    "collatz(1)"
   ]
  },
  {
   "cell_type": "code",
   "execution_count": 31,
   "id": "ae04e306",
   "metadata": {},
   "outputs": [
    {
     "name": "stdout",
     "output_type": "stream",
     "text": [
      "10\n",
      "5\n",
      "16\n",
      "8\n",
      "4\n",
      "2\n",
      "1\n"
     ]
    }
   ],
   "source": [
    "collatz(10)"
   ]
  },
  {
   "cell_type": "code",
   "execution_count": 32,
   "id": "28d0896e",
   "metadata": {},
   "outputs": [],
   "source": [
    "#Question 5\n",
    "\n",
    "def binary(n):\n",
    "    if n > 1:\n",
    "        binary(n//2)\n",
    "    print(n%2, end='')"
   ]
  },
  {
   "cell_type": "code",
   "execution_count": 33,
   "id": "c34ee477",
   "metadata": {},
   "outputs": [
    {
     "name": "stdout",
     "output_type": "stream",
     "text": [
      "0"
     ]
    }
   ],
   "source": [
    "binary(0)"
   ]
  },
  {
   "cell_type": "code",
   "execution_count": 34,
   "id": "56e3594c",
   "metadata": {},
   "outputs": [
    {
     "name": "stdout",
     "output_type": "stream",
     "text": [
      "1"
     ]
    }
   ],
   "source": [
    "binary(1)"
   ]
  },
  {
   "cell_type": "code",
   "execution_count": 35,
   "id": "f554ded6",
   "metadata": {},
   "outputs": [
    {
     "name": "stdout",
     "output_type": "stream",
     "text": [
      "11"
     ]
    }
   ],
   "source": [
    "binary(3)"
   ]
  },
  {
   "cell_type": "code",
   "execution_count": 36,
   "id": "6625ccc6",
   "metadata": {},
   "outputs": [
    {
     "name": "stdout",
     "output_type": "stream",
     "text": [
      "1001"
     ]
    }
   ],
   "source": [
    "binary(9)"
   ]
  },
  {
   "cell_type": "code",
   "execution_count": 46,
   "id": "846c39be",
   "metadata": {},
   "outputs": [],
   "source": [
    "#Question 6\n",
    "\n",
    "from html.parser import HTMLParser\n",
    "\n",
    "class HeadingParser(HTMLParser):\n",
    "    headings = []\n",
    "    current_heading = \"\"\n",
    "\n",
    "    def handle_starttag(self, tag, attrs):\n",
    "        if tag.startswith(\"h\") and len(tag) == 2:\n",
    "            self.current_heading = int(tag[1])\n",
    "    \n",
    "    def handle_data(self, data):\n",
    "        if self.current_heading:\n",
    "            self.headings.append((self.current_heading, data.strip()))\n",
    "\n",
    "    def print_headings(self):\n",
    "        for heading_level, heading_text in self.headings:\n",
    "            print(\" \" * (heading_level - 1) + heading_text)\n"
   ]
  },
  {
   "cell_type": "code",
   "execution_count": 47,
   "id": "83525b58",
   "metadata": {},
   "outputs": [
    {
     "name": "stdout",
     "output_type": "stream",
     "text": [
      "W3C Mission\n",
      "\n",
      " Principles\n",
      " \n",
      " \n"
     ]
    }
   ],
   "source": [
    "with open(\"w3c.html\") as file:\n",
    "    parser = HeadingParser()\n",
    "    parser.feed(file.read())\n",
    "    parser.print_headings()"
   ]
  },
  {
   "cell_type": "code",
   "execution_count": 7,
   "id": "99db6527",
   "metadata": {},
   "outputs": [],
   "source": [
    "#Question 7\n",
    "\n",
    "import requests\n",
    "from bs4 import BeautifulSoup\n",
    "\n",
    "def webdir(url, depth, indent):\n",
    "    if depth < 0:\n",
    "        return\n",
    "\n",
    "    try:\n",
    "        response = requests.get(url)\n",
    "        soup = BeautifulSoup(response.text, 'html.parser')\n",
    "        print(' ' * indent + url)\n",
    "\n",
    "        if depth > 0:\n",
    "            links = soup.find_all('a')\n",
    "            for link in links:\n",
    "                href = link.get('href')\n",
    "                if href.startswith('http'):\n",
    "                    webdir(href, depth - 1, indent + 4)\n",
    "\n",
    "    except Exception as e:\n",
    "        print(' ' * indent + f\"Error fetching URL: {url} - {e}\")"
   ]
  },
  {
   "cell_type": "code",
   "execution_count": 8,
   "id": "1b3969cd",
   "metadata": {
    "scrolled": true
   },
   "outputs": [
    {
     "name": "stdout",
     "output_type": "stream",
     "text": [
      "http://reed.cs.depaul.edu/lperkovic/csc242/test1.html\n"
     ]
    }
   ],
   "source": [
    "webdir('http://reed.cs.depaul.edu/lperkovic/csc242/test1.html', 2, 0)"
   ]
  },
  {
   "cell_type": "code",
   "execution_count": null,
   "id": "b093baa5",
   "metadata": {},
   "outputs": [],
   "source": [
    "#Question 8\n",
    "\n",
    "a) SELECT Temprature FROM WeatherData;\n",
    "\n",
    "b) SELECT DISTINCT City FROM WeatherData;\n",
    "\n",
    "c) SELECT * FROM WeatherData WHERE Country = 'India';\n",
    "\n",
    "d) SELECT * FROM WeatherData WHERE Season = 'Fall';\n",
    "\n",
    "e) SELECT City, Country, Season \n",
    "   FROM WeatherData \n",
    "   GROUP BY City, Country, Season\n",
    "   HAVING AVG(Rainfall) BETWEEN 200 AND 400;\n",
    "    \n",
    "f) SELECT City, Country\n",
    "   FROM WeatherData\n",
    "   WHERE Season = 'Fall'\n",
    "   GROUP BY City, Country\n",
    "   HAVING AVG(Temprature) > 20\n",
    "   ORDER BY AVG(Temprature) ASC;\n",
    "    \n",
    "g) SELECT SUM(Rainfall) as Total_Rainfall\n",
    "   FROM WeatherData\n",
    "   WHERE City = 'Cairo';\n",
    "\n",
    "h) SELECT Season, SUM(Rainfall) as Total_Rainfall\n",
    "   FROM WeatherData\n",
    "   GROUP BY Season; "
   ]
  },
  {
   "cell_type": "code",
   "execution_count": 9,
   "id": "7f15083e",
   "metadata": {},
   "outputs": [
    {
     "name": "stdout",
     "output_type": "stream",
     "text": [
      "['THE', 'QUICK', 'BROWN', 'FOX', 'JUMPS', 'OVER', 'THE', 'LAZY', 'DOG']\n"
     ]
    }
   ],
   "source": [
    "#Question 9\n",
    "\n",
    "# a) uppercase\n",
    "\n",
    "words = ['The', 'quick', 'brown', 'fox', 'jumps', 'over', 'the', 'lazy', 'dog']\n",
    "uppercaseWords = [word.upper() for word in words]\n",
    "print(uppercaseWords)"
   ]
  },
  {
   "cell_type": "code",
   "execution_count": 10,
   "id": "8a81e830",
   "metadata": {},
   "outputs": [
    {
     "name": "stdout",
     "output_type": "stream",
     "text": [
      "['the', 'quick', 'brown', 'fox', 'jumps', 'over', 'the', 'lazy', 'dog']\n"
     ]
    }
   ],
   "source": [
    "# b) lowercase\n",
    "\n",
    "words = ['The', 'quick', 'brown', 'fox', 'jumps', 'over', 'the', 'lazy', 'dog']\n",
    "lowercaseWords = [word.lower() for word in words]\n",
    "print(lowercaseWords)"
   ]
  },
  {
   "cell_type": "code",
   "execution_count": 11,
   "id": "1b2d9164",
   "metadata": {},
   "outputs": [
    {
     "name": "stdout",
     "output_type": "stream",
     "text": [
      "[3, 5, 5, 3, 5, 4, 3, 4, 3]\n"
     ]
    }
   ],
   "source": [
    "# c) length of the word\n",
    "\n",
    "words = ['The', 'quick', 'brown', 'fox', 'jumps', 'over', 'the', 'lazy', 'dog']\n",
    "word_lengths = [len(word) for word in words]\n",
    "print(word_lengths)"
   ]
  },
  {
   "cell_type": "code",
   "execution_count": 12,
   "id": "d4767ee0",
   "metadata": {},
   "outputs": [
    {
     "name": "stdout",
     "output_type": "stream",
     "text": [
      "[['THE', 'the', 3], ['QUICK', 'quick', 5], ['BROWN', 'brown', 5], ['FOX', 'fox', 3], ['JUMPS', 'jumps', 5], ['OVER', 'over', 4], ['THE', 'the', 3], ['LAZY', 'lazy', 4], ['DOG', 'dog', 3]]\n"
     ]
    }
   ],
   "source": [
    "# d) list of every word which contain uppercase, lowercase and length\n",
    "\n",
    "words = ['The', 'quick', 'brown', 'fox', 'jumps', 'over', 'the', 'lazy', 'dog']\n",
    "wordInfo = [[word.upper(), word.lower(), len(word)] for word in words]\n",
    "print(wordInfo)"
   ]
  },
  {
   "cell_type": "code",
   "execution_count": 13,
   "id": "48c60afc",
   "metadata": {},
   "outputs": [
    {
     "name": "stdout",
     "output_type": "stream",
     "text": [
      "['quick', 'brown', 'jumps', 'over', 'lazy']\n"
     ]
    }
   ],
   "source": [
    "# e) list words containing 4 or more characters\n",
    "\n",
    "words = ['The', 'quick', 'brown', 'fox', 'jumps', 'over', 'the', 'lazy', 'dog']\n",
    "longWords = [word for word in words if len(word) >= 4]\n",
    "print(longWords)"
   ]
  }
 ],
 "metadata": {
  "kernelspec": {
   "display_name": "Python 3 (ipykernel)",
   "language": "python",
   "name": "python3"
  },
  "language_info": {
   "codemirror_mode": {
    "name": "ipython",
    "version": 3
   },
   "file_extension": ".py",
   "mimetype": "text/x-python",
   "name": "python",
   "nbconvert_exporter": "python",
   "pygments_lexer": "ipython3",
   "version": "3.11.5"
  }
 },
 "nbformat": 4,
 "nbformat_minor": 5
}
